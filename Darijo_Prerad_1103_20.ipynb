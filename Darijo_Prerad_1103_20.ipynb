{
  "cells": [
    {
      "cell_type": "code",
      "execution_count": 30,
      "metadata": {
        "id": "L4XaiGMPOzkX"
      },
      "outputs": [
        {
          "name": "stdout",
          "output_type": "stream",
          "text": [
            "Number of unique target values: 7\n"
          ]
        }
      ],
      "source": [
        "import torch\n",
        "import numpy as np\n",
        "from torch import nn\n",
        "from torch.utils.data import TensorDataset, DataLoader\n",
        "from sklearn.model_selection import train_test_split\n",
        "from sklearn.preprocessing import StandardScaler\n",
        "from sklearn.datasets import fetch_covtype\n",
        "from sklearn.metrics import precision_recall_fscore_support\n",
        "from sklearn.metrics import precision_score, recall_score\n",
        "\n",
        "\n",
        "\n",
        "# Ovo su parovi X - y gdje X predstavlja vrijednost nekih parametara a y predstavlja rezultat (tip sumskog pokrivaca)\n",
        "data = fetch_covtype()\n",
        "\n",
        "# Varijabla za parametre\n",
        "X = data['data']\n",
        "\n",
        "# Varijabla za rezultantne vrijednosti\n",
        "y = data['target'] - 1\n",
        "\n",
        "\n",
        "# Standardizacijom dobijam podatke manjih vrijednosti i blizi su jedni drugima\n",
        "# Koriste se neke matematicke operacije, dijele se podaci sa srednjih vrijednostima itd.\n",
        "scaler = StandardScaler()\n",
        "X = scaler.fit_transform(X)\n",
        "\n",
        "\n",
        "unique_targets = np.unique(data['target'])\n",
        "num_unique_targets = len(unique_targets)\n",
        "print(\"Number of unique target values:\", num_unique_targets)\n",
        "\n",
        "\n",
        "# Ima 7 mogucih izlaznih vrijednosti vrijednosti za predvidjanje dakle broj izlaznih neurona ce biti 7 - int\n",
        "# 54 parametra na ulazu  - float i 580 000 parova podataka\n",
        "\n",
        "\n",
        "# Kreiramo klasicnu, potpuno povezanu mrezu (feedforward) za klasifikaciju\n"
      ]
    },
    {
      "cell_type": "code",
      "execution_count": 31,
      "metadata": {
        "id": "ObcZSzGvlTi5"
      },
      "outputs": [],
      "source": [
        "# Podaci podijeljeni na trening, test i validacione  ---  20% test i onda od ostatka 20% je za validaciju, ostalo je za trening\n",
        "X_trainval, X_test, y_trainval, y_test = train_test_split(X, y, test_size=0.20, random_state=1)\n",
        "X_train, X_val, y_train, y_val = train_test_split(X_trainval, y_trainval, test_size=0.20, random_state=1)\n",
        "\n",
        "\n",
        "# Konverzija iz Numpy array u Pytorch tensor\n",
        "X_train = torch.tensor(X_train, dtype=torch.float32)\n",
        "X_test = torch.tensor(X_test, dtype=torch.float32)\n",
        "X_val = torch.tensor(X_val, dtype=torch.float32)\n",
        "\n",
        "y_train = torch.tensor(y_train, dtype=torch.long)\n",
        "y_test = torch.tensor(y_test, dtype=torch.long)\n",
        "y_val = torch.tensor(y_val, dtype=torch.long)\n",
        "\n",
        "\n",
        "# Sad imam:\n",
        "\n",
        "# X_train - trening vrijednosti parametara\n",
        "# X_test -  testne vrijednosti parametara\n",
        "# X_val -   validacione vrijednosti parametara\n",
        "\n",
        "# y_train - trening rezultati\n",
        "# y_test -  testni rezultati - treba da se racunaju \n",
        "# y_val -   validacioni rezultati\n"
      ]
    },
    {
      "cell_type": "code",
      "execution_count": 32,
      "metadata": {},
      "outputs": [],
      "source": [
        "class Model(nn.Module):\n",
        "    def __init__(self, input_size, output_size, hidden_layers, neurons_per_layer):\n",
        "        super(Model, self).__init__()\n",
        "        layers = []\n",
        "        layers.append(nn.Linear(input_size, neurons_per_layer))\n",
        "        layers.append(nn.ReLU())\n",
        "        for _ in range(hidden_layers):\n",
        "            layers.append(nn.Linear(neurons_per_layer, neurons_per_layer))\n",
        "            layers.append(nn.ReLU())\n",
        "        layers.append(nn.Linear(neurons_per_layer, output_size))\n",
        "        self.model = nn.Sequential(*layers)\n",
        "    \n",
        "    def forward(self, x):\n",
        "        return self.model(x)"
      ]
    },
    {
      "cell_type": "code",
      "execution_count": 33,
      "metadata": {},
      "outputs": [],
      "source": [
        "# Hiperparametri\n",
        "\n",
        "OUTPUT_SIZE = 7\n",
        "INPUT_SIZE = 54\n",
        "hidden_layers = 2\n",
        "neurons_per_layer = 60\n",
        "learning_rate = 0.05\n",
        "num_epochs = 20\n",
        "batch_size = 60\n",
        "patience = 3"
      ]
    },
    {
      "cell_type": "code",
      "execution_count": 34,
      "metadata": {
        "id": "nyl_earWl-iE"
      },
      "outputs": [],
      "source": [
        "loss_function = nn.CrossEntropyLoss()\n",
        "model = Model(INPUT_SIZE, OUTPUT_SIZE, hidden_layers, neurons_per_layer)\n",
        "optimizer = torch.optim.SGD(model.parameters(), lr=learning_rate)\n",
        "\n",
        "\n",
        "minimum_validation_loss = float('inf')\n",
        "counter = 0\n"
      ]
    },
    {
      "cell_type": "code",
      "execution_count": 35,
      "metadata": {},
      "outputs": [
        {
          "name": "stdout",
          "output_type": "stream",
          "text": [
            "Before training and learning any meaningful patterns from the data: \n",
            "\n",
            "\n",
            "Precision: 0.070, \n",
            "Recall:    0.143\n"
          ]
        }
      ],
      "source": [
        "# TESTIRANJE MREZE PRIJE TRENIRANJA \n",
        "print(\"Before training and learning any meaningful patterns from the data: \\n\\n\")\n",
        "\n",
        "\n",
        "model.eval()  # Mod za validaciju\n",
        "\n",
        "\n",
        "with torch.no_grad():\n",
        "    outputs = model(X_test)\n",
        "    _, predicted = torch.max(outputs, 1)\n",
        "\n",
        "#print(predicted)\n",
        "#print()\n",
        "\n",
        "precision = precision_score(y_test, predicted, average=\"macro\", zero_division=0)\n",
        "recall = recall_score(y_test, predicted, average=\"macro\", zero_division=0)\n",
        "\n",
        "\n",
        "print(f'Precision: {precision:.3f}, \\nRecall:    {recall:.3f}')\n"
      ]
    },
    {
      "cell_type": "code",
      "execution_count": 36,
      "metadata": {},
      "outputs": [
        {
          "name": "stdout",
          "output_type": "stream",
          "text": [
            "Epoch 1   ---------------------------------------   Training loss: 0.7967696785926819   ---------------------------------------   Validation loss: 0.5542483329772949\n",
            "Epoch 2   ---------------------------------------   Training loss: 0.6383163332939148   ---------------------------------------   Validation loss: 0.49096912145614624\n",
            "Epoch 3   ---------------------------------------   Training loss: 0.6132278442382812   ---------------------------------------   Validation loss: 0.45146119594573975\n",
            "Epoch 4   ---------------------------------------   Training loss: 0.5815111398696899   ---------------------------------------   Validation loss: 0.42474478483200073\n",
            "Epoch 5   ---------------------------------------   Training loss: 0.5515332221984863   ---------------------------------------   Validation loss: 0.4089582562446594\n",
            "Epoch 6   ---------------------------------------   Training loss: 0.5193818211555481   ---------------------------------------   Validation loss: 0.3951517939567566\n",
            "Epoch 7   ---------------------------------------   Training loss: 0.4347623288631439   ---------------------------------------   Validation loss: 0.37125521898269653\n",
            "Epoch 8   ---------------------------------------   Training loss: 0.40952280163764954   ---------------------------------------   Validation loss: 0.3604143261909485\n",
            "Epoch 9   ---------------------------------------   Training loss: 0.3918944001197815   ---------------------------------------   Validation loss: 0.3462533950805664\n",
            "Epoch 10   ---------------------------------------   Training loss: 0.33594420552253723   ---------------------------------------   Validation loss: 0.3305663466453552\n",
            "Epoch 11   ---------------------------------------   Training loss: 0.2822570502758026   ---------------------------------------   Validation loss: 0.32762718200683594\n",
            "Epoch 12   ---------------------------------------   Training loss: 0.2561239004135132   ---------------------------------------   Validation loss: 0.3227408826351166\n",
            "Epoch 13   ---------------------------------------   Training loss: 0.25418269634246826   ---------------------------------------   Validation loss: 0.31199321150779724\n",
            "Epoch 14   ---------------------------------------   Training loss: 0.24787530303001404   ---------------------------------------   Validation loss: 0.3091435730457306\n",
            "Epoch 15   ---------------------------------------   Training loss: 0.23805856704711914   ---------------------------------------   Validation loss: 0.3036069869995117\n",
            "Epoch 16   ---------------------------------------   Training loss: 0.25169137120246887   ---------------------------------------   Validation loss: 0.3101653456687927\n",
            "Epoch 17   ---------------------------------------   Training loss: 0.2344924956560135   ---------------------------------------   Validation loss: 0.30579179525375366\n",
            "Epoch 18   ---------------------------------------   Training loss: 0.24400588870048523   ---------------------------------------   Validation loss: 0.31281065940856934\n",
            "Early stopping on epoch 18\n",
            "\n",
            "Neural network done training!\n",
            "\n"
          ]
        }
      ],
      "source": [
        "# TRENIRANJE MREZE\n",
        "model.train()       # Trening mod\n",
        "\n",
        "for epoch in range(num_epochs):\n",
        "    for i in range(0, len(X_train), batch_size):\n",
        "        batch_x = X_train[i:i+batch_size]\n",
        "        batch_y = y_train[i:i+batch_size]\n",
        "        \n",
        "        outputs = model(batch_x)                                    # Pretpostavke\n",
        "        loss = loss_function(outputs, batch_y)                      # Mjeri razliku izmedju pretpostavljenih i tacnih vrijednosti\n",
        "        optimizer.zero_grad()                                       # Samo cisti prethodne rezultate\n",
        "        loss.backward()                                             # Optimizacija parametara odnosno pomocu backpropagation minimizujem funkciju greske\n",
        "        optimizer.step()                                            # Koriguje parametre modela\n",
        "\n",
        "\n",
        "    model.eval()        # Mod za validaciju\n",
        "    with torch.no_grad():\n",
        "        val_outputs = model(X_val)                                  # Pretpostavke\n",
        "        val_loss = loss_function(val_outputs, y_val)                # Mjeri razliku izmedju pretpostavljenih i tacnih vrijednosti\n",
        "\n",
        "\n",
        "\n",
        "    print(f'Epoch {epoch+1}   ---------------------------------------   Training loss: {loss.item()}   ---------------------------------------   Validation loss: {val_loss.item()}')\n",
        "\n",
        "    \n",
        "    \n",
        "    if val_loss < minimum_validation_loss:\n",
        "        minimum_validation_loss = val_loss\n",
        "        counter = 0\n",
        "    else:\n",
        "        counter += 1\n",
        "        if counter >= patience:\n",
        "            print(\"Early stopping on epoch\", epoch + 1)\n",
        "            break\n",
        "\n",
        "\n",
        "print(\"\\nNeural network done training!\\n\")\n"
      ]
    },
    {
      "cell_type": "code",
      "execution_count": 37,
      "metadata": {
        "colab": {
          "base_uri": "https://localhost:8080/"
        },
        "id": "xaFPrRV4mBXG",
        "outputId": "3def35e3-7e20-4178-8b10-43aff2da46a6"
      },
      "outputs": [
        {
          "name": "stdout",
          "output_type": "stream",
          "text": [
            "tensor([1, 0, 2,  ..., 0, 0, 0])\n",
            "\n",
            "Precision: 0.833, \n",
            "Recall:    0.808, \n",
            "F1-score:  0.819\n"
          ]
        }
      ],
      "source": [
        "# TESTIRANJE MREZE\n",
        "model.eval()  # Mod za validaciju\n",
        "\n",
        "\n",
        "with torch.no_grad():\n",
        "    outputs = model(X_test)\n",
        "    _, predicted = torch.max(outputs, 1)\n",
        "\n",
        "print(predicted)\n",
        "\n",
        "precision, recall, f1_score, _ = precision_recall_fscore_support(y_test, predicted, average='macro')\n",
        "print(f'\\nPrecision: {precision:.3f}, \\nRecall:    {recall:.3f}, \\nF1-score:  {f1_score:.3f}')\n"
      ]
    }
  ],
  "metadata": {
    "colab": {
      "provenance": []
    },
    "kernelspec": {
      "display_name": "Python 3",
      "name": "python3"
    },
    "language_info": {
      "codemirror_mode": {
        "name": "ipython",
        "version": 3
      },
      "file_extension": ".py",
      "mimetype": "text/x-python",
      "name": "python",
      "nbconvert_exporter": "python",
      "pygments_lexer": "ipython3",
      "version": "3.10.11"
    }
  },
  "nbformat": 4,
  "nbformat_minor": 0
}
